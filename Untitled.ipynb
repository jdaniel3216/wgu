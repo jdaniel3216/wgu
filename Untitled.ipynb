{
 "cells": [
  {
   "cell_type": "code",
   "execution_count": 3,
   "id": "2471d2c3-d4e1-45c3-99e7-daef21597eba",
   "metadata": {},
   "outputs": [],
   "source": [
    "import sympy\n",
    "import pandas as pd\n"
   ]
  },
  {
   "cell_type": "code",
   "execution_count": 59,
   "id": "c82dc27e-f216-4d61-ba12-08cdfe7f0274",
   "metadata": {},
   "outputs": [
    {
     "data": {
      "text/plain": [
       "False"
      ]
     },
     "execution_count": 59,
     "metadata": {},
     "output_type": "execute_result"
    }
   ],
   "source": [
    "num = 976221\n",
    "sympy.isprime(num)\n",
    "              "
   ]
  },
  {
   "cell_type": "code",
   "execution_count": 40,
   "id": "9722a8ac-56f7-4f69-8dfd-05b0afa86471",
   "metadata": {},
   "outputs": [
    {
     "data": {
      "text/plain": [
       "503"
      ]
     },
     "execution_count": 40,
     "metadata": {},
     "output_type": "execute_result"
    }
   ],
   "source": [
    "num + "
   ]
  },
  {
   "cell_type": "code",
   "execution_count": null,
   "id": "0e8c4e46-90ae-4759-9c7c-f88092125304",
   "metadata": {},
   "outputs": [],
   "source": []
  }
 ],
 "metadata": {
  "kernelspec": {
   "display_name": "Python (wgu)",
   "language": "python",
   "name": "wgu"
  },
  "language_info": {
   "codemirror_mode": {
    "name": "ipython",
    "version": 3
   },
   "file_extension": ".py",
   "mimetype": "text/x-python",
   "name": "python",
   "nbconvert_exporter": "python",
   "pygments_lexer": "ipython3",
   "version": "3.11.8"
  }
 },
 "nbformat": 4,
 "nbformat_minor": 5
}
